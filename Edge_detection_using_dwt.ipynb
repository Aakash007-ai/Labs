{
  "nbformat": 4,
  "nbformat_minor": 0,
  "metadata": {
    "colab": {
      "name": "Untitled3.ipynb",
      "provenance": [],
      "collapsed_sections": [],
      "authorship_tag": "ABX9TyO8AnM9SdEYCrBSM4pqE5Ol",
      "include_colab_link": true
    },
    "kernelspec": {
      "name": "python3",
      "display_name": "Python 3"
    },
    "language_info": {
      "name": "python"
    }
  },
  "cells": [
    {
      "cell_type": "markdown",
      "metadata": {
        "id": "view-in-github",
        "colab_type": "text"
      },
      "source": [
        "<a href=\"https://colab.research.google.com/github/Aakash007-ai/Labs/blob/master/Edge_detection_using_dwt.ipynb\" target=\"_parent\"><img src=\"https://colab.research.google.com/assets/colab-badge.svg\" alt=\"Open In Colab\"/></a>"
      ]
    },
    {
      "cell_type": "code",
      "execution_count": 1,
      "metadata": {
        "id": "9j-U6iXR80BO"
      },
      "outputs": [],
      "source": [
        "import math\n",
        "\n",
        "import cv2\n",
        "import numpy as np\n",
        "import scipy.ndimage\n",
        "from matplotlib import pyplot as plt\n"
      ]
    },
    {
      "cell_type": "code",
      "source": [
        "direction_rows = 0\n",
        "direction_columns = 1\n",
        "\n",
        "scale_order = 2\n",
        "\n",
        "noise_gaussian = \"Gaussian Noise\"\n",
        "noise_salt_pepper = \"Salt & Pepper Noise\"\n",
        "\n",
        "filter_haar = \"Haar Filter\"\n",
        "filter_coiflet = \"Coiflet Filter\"\n",
        "\n",
        "threshold_final = 1e5\n",
        "\n",
        "threshold_original_haar = 15\n",
        "threshold_original_coiflet = 14\n",
        "\n",
        "threshold_gaussian_haar = 18\n",
        "threshold_gaussian_coiflet = 16\n",
        "\n",
        "threshold_snp_haar = 15\n",
        "threshold_snp_coifflet = 13"
      ],
      "metadata": {
        "id": "22_cih8T9ZkD"
      },
      "execution_count": 2,
      "outputs": []
    },
    {
      "cell_type": "code",
      "source": [
        "def generateNoise(img_input, noise_type, level_val_1, level_val_2):\n",
        "    if noise_type == noise_gaussian:\n",
        "        height, width = img_input.shape\n",
        "\n",
        "        mean = level_val_1\n",
        "        var = level_val_2\n",
        "        sigma = var ** 0.5  # Sample 20\n",
        "\n",
        "        # Gaussian-distributed additive noise\n",
        "        gauss = np.random.normal(mean, sigma, (height, width))\n",
        "        gauss = gauss.reshape(height, width)\n",
        "        img_gaussian_noise = img_input + gauss\n",
        "\n",
        "        return img_gaussian_noise\n",
        "\n",
        "    elif noise_type == noise_salt_pepper:\n",
        "        img_salt_pepper_noise = img_input.copy()\n",
        "\n",
        "        salt_vs_pepper = level_val_1\n",
        "        amount = level_val_2\n",
        "\n",
        "        # Salt mode : Replaces random pixels with 1\n",
        "        num_salt = np.ceil(amount * img_input.size * salt_vs_pepper)\n",
        "        pixels = [np.random.randint(0, i - 1, int(num_salt))\n",
        "                  for i in img_input.shape]\n",
        "        img_salt_pepper_noise[pixels] = 1\n",
        "\n",
        "        # Pepper mode : Replaces random pixels with 0\n",
        "        num_pepper = np.ceil(amount * img_input.size * (1. - salt_vs_pepper))\n",
        "        pixels = [np.random.randint(0, i - 1, int(num_pepper))\n",
        "                  for i in img_input.shape]\n",
        "        img_salt_pepper_noise[pixels] = 0\n",
        "\n",
        "        return img_salt_pepper_noise\n"
      ],
      "metadata": {
        "id": "tP1mStEG9go_"
      },
      "execution_count": 3,
      "outputs": []
    },
    {
      "cell_type": "code",
      "source": [
        "def downSample(img_input, direction):\n",
        "    if direction == direction_rows:\n",
        "        h, w = img_input.shape\n",
        "        img_output = np.zeros((h // 2, w))   #c1 h//2\n",
        "        i = 0\n",
        "        new = i\n",
        "        while i < h:\n",
        "            img_output[new, :] = img_input[i, :]\n",
        "            new = new + 1\n",
        "            i = i + 2\n",
        "\n",
        "        return img_output\n",
        "\n",
        "    elif direction == direction_columns:\n",
        "        h, w = img_input.shape\n",
        "        img_output = np.zeros((h, w // 2))  #c2\n",
        "        i = 0\n",
        "        new = i\n",
        "        while i < w:\n",
        "            img_output[:, new] = img_input[:, i]\n",
        "            new = new + 1\n",
        "            i = i + 2\n",
        "\n",
        "        return img_output\n"
      ],
      "metadata": {
        "id": "FnlaVe8Q9mYU"
      },
      "execution_count": 4,
      "outputs": []
    },
    {
      "cell_type": "code",
      "source": [
        "def upSample(img_input, order):\n",
        "    img_output = scipy.ndimage.zoom(img_input, order)\n",
        "    return img_output"
      ],
      "metadata": {
        "id": "KFpETaJs9qv0"
      },
      "execution_count": 5,
      "outputs": []
    },
    {
      "cell_type": "code",
      "source": [
        "def haarConvolveRowsLowPass(img_input):\n",
        "    img_input_pad = cv2.copyMakeBorder(img_input, 0, 0, 0, 1, cv2.BORDER_CONSTANT, value=0)\n",
        "\n",
        "    height, width = img_input_pad.shape\n",
        "\n",
        "    print(\"haarConvolveRowsLowPass : \")\n",
        "    print(img_input_pad.shape)\n",
        "\n",
        "    img_haar_convolved = np.zeros((height, width))\n",
        "\n",
        "    for x in range(0, height):\n",
        "        for y in range(0, width - 1):\n",
        "            img_haar_convolved[x, y] = (img_input_pad[x, y] / math.sqrt(2)) + (\n",
        "                img_input_pad[x, y + 1] / math.sqrt(2))\n",
        "\n",
        "    return img_haar_convolved[0:height, 0:width - 1]"
      ],
      "metadata": {
        "id": "Mfa6ovVg9wZv"
      },
      "execution_count": 6,
      "outputs": []
    },
    {
      "cell_type": "code",
      "source": [
        "def haarConvolveColumnsLowPass(img_input):\n",
        "    img_input_pad = cv2.copyMakeBorder(img_input, 0, 1, 0, 0, cv2.BORDER_CONSTANT, value=0)\n",
        "\n",
        "    height, width = img_input_pad.shape\n",
        "\n",
        "    print(\"haarConvolveColumnsLowPass : \")\n",
        "    print(img_input_pad.shape)\n",
        "\n",
        "    img_haar_convolved = np.zeros((height, width))\n",
        "\n",
        "    for y in range(0, width):\n",
        "        for x in range(0, height - 1):\n",
        "            img_haar_convolved[x, y] = (img_input_pad[x, y] / math.sqrt(2)) + (\n",
        "                img_input_pad[x + 1, y] / math.sqrt(2))\n",
        "\n",
        "    return img_haar_convolved[0:height - 1, 0:width]\n"
      ],
      "metadata": {
        "id": "-a0Rde3b9yXT"
      },
      "execution_count": 7,
      "outputs": []
    },
    {
      "cell_type": "code",
      "source": [
        "def haarConvolveRowsHighPass(img_input):\n",
        "    img_input_pad = cv2.copyMakeBorder(img_input, 0, 0, 0, 1, cv2.BORDER_CONSTANT, value=0)\n",
        "\n",
        "    height, width = img_input_pad.shape\n",
        "\n",
        "    print(\"haarConvolveRowsHighPass : \")\n",
        "    print(img_input_pad.shape)\n",
        "\n",
        "    img_haar_convolved = np.zeros((height, width))\n",
        "\n",
        "    for x in range(0, height):\n",
        "        for y in range(0, width - 1):\n",
        "            img_haar_convolved[x, y] = -(img_input_pad[x, y] / math.sqrt(2)) + (\n",
        "                img_input_pad[x, y + 1] / math.sqrt(2))\n",
        "\n",
        "    return img_haar_convolved[0:height, 0:width - 1]\n"
      ],
      "metadata": {
        "id": "2CPYUtJv94WJ"
      },
      "execution_count": 8,
      "outputs": []
    },
    {
      "cell_type": "code",
      "source": [
        "def haarConvolveColumnsHighPass(img_input):\n",
        "    img_input_pad = cv2.copyMakeBorder(img_input, 0, 1, 0, 0, cv2.BORDER_CONSTANT, value=0)\n",
        "\n",
        "    height, width = img_input_pad.shape\n",
        "\n",
        "    print(\"haarConvolveColumnsHighPass : \")\n",
        "    print(img_input_pad.shape)\n",
        "\n",
        "    img_haar_convolved = np.zeros((height, width))\n",
        "\n",
        "    for y in range(0, width):\n",
        "        for x in range(0, height - 1):\n",
        "            img_haar_convolved[x, y] = -(img_input_pad[x, y] / math.sqrt(2)) + (\n",
        "                img_input_pad[x + 1, y] / math.sqrt(2))\n",
        "\n",
        "    return img_haar_convolved[0:height - 1, 0:width]"
      ],
      "metadata": {
        "id": "yBw8dIls-AdU"
      },
      "execution_count": 10,
      "outputs": []
    },
    {
      "cell_type": "code",
      "source": [
        "def coifletConvolveRowsLowPass(img_input):\n",
        "    # -0.0157   -0.0727    0.3849      0.8526    0.3379   -0.0727\n",
        "    img_input_pad = cv2.copyMakeBorder(img_input, 0, 0, 2, 3, cv2.BORDER_CONSTANT, value=0)\n",
        "\n",
        "    height, width = img_input_pad.shape\n",
        "\n",
        "    print(\"coifletConvolveRowsLowPass : \")\n",
        "    print(img_input_pad.shape)\n",
        "\n",
        "    img_coiflet_convolved = np.zeros((height, width))\n",
        "\n",
        "    for x in range(0, height):\n",
        "        for y in range(2, width - 3):\n",
        "            img_coiflet_convolved[x, y] = img_input_pad[x, y - 2] * (-0.0157) + img_input_pad[x, y - 1] * (-0.0727) + \\\n",
        "                                          img_input_pad[x, y] * (0.3849) + img_input_pad[x, y + 1] * (0.8526) + \\\n",
        "                                          img_input_pad[x, y + 2] * (0.3379) + img_input_pad[x, y + 3] * (-0.0727)\n",
        "\n",
        "    return img_coiflet_convolved[0:height, 2:width - 3]\n"
      ],
      "metadata": {
        "id": "Ujo69Ax7-Hgk"
      },
      "execution_count": 11,
      "outputs": []
    },
    {
      "cell_type": "code",
      "source": [
        "def coifletConvolveColumnsLowPass(img_input):\n",
        "    # -0.0157   -0.0727    0.3849      0.8526    0.3379   -0.0727\n",
        "    img_input_pad = cv2.copyMakeBorder(img_input, 2, 3, 0, 0, cv2.BORDER_CONSTANT, value=0)\n",
        "\n",
        "    height, width = img_input_pad.shape\n",
        "\n",
        "    print(\"coifletConvolveColumnsLowPass : \")\n",
        "    print(img_input_pad.shape)\n",
        "\n",
        "    img_coiflet_convolved = np.zeros((height, width))\n",
        "\n",
        "    for x in range(2, height - 3):\n",
        "        for y in range(0, width):\n",
        "            img_coiflet_convolved[x, y] = img_input_pad[x - 2, y] * (-0.0157) + img_input_pad[x - 1, y] * (-0.0727) + \\\n",
        "                                          img_input_pad[x, y] * (0.3849) + img_input_pad[x + 1, y] * (0.8526) + \\\n",
        "                                          img_input_pad[x + 2, y] * (0.3379) + img_input_pad[x + 3, y] * (-0.0727)\n",
        "\n",
        "    return img_coiflet_convolved[2:height - 3, 0:width]\n"
      ],
      "metadata": {
        "id": "UabBhSB--Nh2"
      },
      "execution_count": 12,
      "outputs": []
    },
    {
      "cell_type": "code",
      "source": [
        "def coifletConvolveRowsHighPass(img_input):\n",
        "    # 0.0727    0.3379   -0.8526    0.3849    0.0727   -0.0157; High\n",
        "    img_input_pad = cv2.copyMakeBorder(img_input, 0, 0, 2, 3, cv2.BORDER_CONSTANT, value=0)\n",
        "\n",
        "    height, width = img_input_pad.shape\n",
        "\n",
        "    print(\"coifletConvolveRowsHighPass : \")\n",
        "    print(img_input_pad.shape)\n",
        "\n",
        "    img_coiflet_convolved = np.zeros((height, width))\n",
        "\n",
        "    for x in range(0, height):\n",
        "        for y in range(2, width - 3):\n",
        "            img_coiflet_convolved[x, y] = img_input_pad[x, y - 2] * (0.0727) + img_input_pad[x, y - 1] * (0.3379) + \\\n",
        "                                          img_input_pad[x, y] * (-0.8526) + img_input_pad[x, y + 1] * (0.3849) + \\\n",
        "                                          img_input_pad[x, y + 2] * (0.0727) + img_input_pad[x, y + 3] * (-0.0157)\n",
        "\n",
        "    return img_coiflet_convolved[0:height, 2:width - 3]\n"
      ],
      "metadata": {
        "id": "GACIHSku-Sct"
      },
      "execution_count": 13,
      "outputs": []
    },
    {
      "cell_type": "code",
      "source": [
        "def coifletConvolveColumnsHighPass(img_input):\n",
        "    # 0.0727    0.3379   -0.8526    0.3849    0.0727   -0.0157; High\n",
        "    img_input_pad = cv2.copyMakeBorder(img_input, 2, 3, 0, 0, cv2.BORDER_CONSTANT, value=0)\n",
        "\n",
        "    height, width = img_input_pad.shape\n",
        "\n",
        "    print(\"coifletConvolveColumnsHighPass : \")\n",
        "    print(img_input_pad.shape)\n",
        "\n",
        "    img_coiflet_convolved = np.zeros((height, width))\n",
        "\n",
        "    for x in range(2, height - 3):\n",
        "        for y in range(0, width):\n",
        "            img_coiflet_convolved[x, y] = img_input_pad[x - 2, y] * (0.0727) + img_input_pad[x - 1, y] * (0.3379) + \\\n",
        "                                          img_input_pad[x, y] * (-0.8526) + img_input_pad[x + 1, y] * (0.3849) + \\\n",
        "                                          img_input_pad[x + 2, y] * (0.0727) + img_input_pad[x + 3, y] * (-0.0157)\n",
        "    return img_coiflet_convolved[2:height - 3, 0:width]\n"
      ],
      "metadata": {
        "id": "df9bYWjQ-XRm"
      },
      "execution_count": 14,
      "outputs": []
    },
    {
      "cell_type": "code",
      "source": [
        "def performLL(img_input, filter_wavelet):\n",
        "    if filter_wavelet == filter_haar:\n",
        "        img_L_rows = haarConvolveRowsLowPass(img_input)\n",
        "        img_L_rows_downsampled = downSample(img_L_rows, direction_rows)\n",
        "\n",
        "        img_L_columns = haarConvolveColumnsLowPass(img_L_rows_downsampled)\n",
        "        img_L_columns_downsampled = downSample(img_L_columns, direction_columns)\n",
        "\n",
        "        return img_L_columns_downsampled\n",
        "\n",
        "    elif filter_wavelet == filter_coiflet:\n",
        "        img_L_rows = coifletConvolveRowsLowPass(img_input)\n",
        "        img_L_rows_downsampled = downSample(img_L_rows, direction_rows)\n",
        "\n",
        "        img_L_columns = coifletConvolveColumnsLowPass(img_L_rows_downsampled)\n",
        "        img_L_columns_downsampled = downSample(img_L_columns, direction_columns)\n",
        "\n",
        "        return img_L_columns_downsampled\n"
      ],
      "metadata": {
        "id": "IJxSKpkq-b6O"
      },
      "execution_count": 15,
      "outputs": []
    },
    {
      "cell_type": "code",
      "source": [
        "def performLH(img_input, filter_wavelet):\n",
        "    if filter_wavelet == filter_haar:\n",
        "        img_L_rows = haarConvolveRowsLowPass(img_input)\n",
        "        img_L_rows_downsampled = downSample(img_L_rows, direction_rows)\n",
        "\n",
        "        img_H_columns = haarConvolveColumnsHighPass(img_L_rows_downsampled)\n",
        "        img_H_columns_downsampled = downSample(img_H_columns, direction_columns)\n",
        "\n",
        "        return img_H_columns_downsampled\n",
        "\n",
        "    elif filter_wavelet == filter_coiflet:\n",
        "        img_L_rows = coifletConvolveRowsLowPass(img_input)\n",
        "        img_L_rows_downsampled = downSample(img_L_rows, direction_rows)\n",
        "\n",
        "        img_H_columns = coifletConvolveColumnsHighPass(img_L_rows_downsampled)\n",
        "        img_H_columns_downsampled = downSample(img_H_columns, direction_columns)\n",
        "\n",
        "        return img_H_columns_downsampled\n"
      ],
      "metadata": {
        "id": "sDCGsr2z-iNH"
      },
      "execution_count": 16,
      "outputs": []
    },
    {
      "cell_type": "code",
      "source": [
        "def performHL(img_input, filter_wavelet):\n",
        "    if filter_wavelet == filter_haar:\n",
        "        img_H_rows = haarConvolveRowsHighPass(img_input)\n",
        "        img_H_rows_downsampled = downSample(img_H_rows, direction_rows)\n",
        "\n",
        "        img_L_columns = haarConvolveColumnsLowPass(img_H_rows_downsampled)\n",
        "        img_L_columns_downsampled = downSample(img_L_columns, direction_columns)\n",
        "\n",
        "        return img_L_columns_downsampled\n",
        "\n",
        "    elif filter_wavelet == filter_coiflet:\n",
        "        img_H_rows = coifletConvolveRowsHighPass(img_input)\n",
        "        img_H_rows_downsampled = downSample(img_H_rows, direction_rows)\n",
        "\n",
        "        img_L_columns = coifletConvolveColumnsLowPass(img_H_rows_downsampled)\n",
        "        img_L_columns_downsampled = downSample(img_L_columns, direction_columns)\n",
        "\n",
        "        return img_L_columns_downsampled\n"
      ],
      "metadata": {
        "id": "dIGt32wY-nfa"
      },
      "execution_count": 17,
      "outputs": []
    },
    {
      "cell_type": "code",
      "source": [
        "def performHH(img_input, filter_wavelet):\n",
        "    if filter_wavelet == filter_haar:\n",
        "        img_H_rows = haarConvolveRowsHighPass(img_input)\n",
        "        img_H_rows_downsampled = downSample(img_H_rows, direction_rows)\n",
        "\n",
        "        img_H_columns = haarConvolveColumnsHighPass(img_H_rows_downsampled)\n",
        "        img_H_columns_downsampled = downSample(img_H_columns, direction_columns)\n",
        "\n",
        "        return img_H_columns_downsampled\n",
        "\n",
        "    elif filter_wavelet == filter_coiflet:\n",
        "        img_H_rows = coifletConvolveRowsHighPass(img_input)\n",
        "        img_H_rows_downsampled = downSample(img_H_rows, direction_rows)\n",
        "\n",
        "        img_H_columns = coifletConvolveColumnsHighPass(img_H_rows_downsampled)\n",
        "        img_H_columns_downsampled = downSample(img_H_columns, direction_columns)\n",
        "\n",
        "        return img_H_columns_downsampled\n"
      ],
      "metadata": {
        "id": "MehWihiM-sEA"
      },
      "execution_count": 18,
      "outputs": []
    },
    {
      "cell_type": "code",
      "source": [
        "def pipeline(img_input, filter_wavelet, noise, threshold_subband):\n",
        "    # ------------------------ Step 1 : Applying Wavelet Filter, Threshold and Down Sampling ---------------------------\n",
        "    # Level 1 : Perform filters LL, LH, HL and HH on Input Image of size [M, N] and generate [M/2, N/2] size Image\n",
        "    img_LL_2 = performLL(img_input, filter_wavelet)\n",
        "    img_LH_2 = performLH(img_input, filter_wavelet)\n",
        "    img_HL_2 = performHL(img_input, filter_wavelet)\n",
        "    img_HH_2 = performHH(img_input, filter_wavelet)\n",
        "\n",
        "    printIntermediateResults(img_LL_2, img_LH_2, img_HL_2, img_HH_2, filter_wavelet, noise, \"[M/2, N/2] Before Threshold\")\n",
        "\n",
        "    # Applying threshold to LH, HL and HH subbands\n",
        "    img_LH_2 = performThresholding(img_LH_2, threshold_subband, False)\n",
        "    img_HL_2 = performThresholding(img_HL_2, threshold_subband, False)\n",
        "    img_HH_2 = performThresholding(img_HH_2, threshold_subband, False)\n",
        "\n",
        "    printIntermediateResults(img_LL_2, img_LH_2, img_HL_2, img_HH_2, filter_wavelet, noise, \"[M/2, N/2] After Threshold\")\n",
        "\n",
        "    # Level 2 : Perform filters LL, LH, HL and HH on LL Image of size [M/2, N/2] and generate [M/4, N/4] size Image\n",
        "    img_LL_4 = performLL(img_LL_2, filter_wavelet)\n",
        "    img_LH_4 = performLH(img_LL_2, filter_wavelet)\n",
        "    img_HL_4 = performHL(img_LL_2, filter_wavelet)\n",
        "    img_HH_4 = performHH(img_LL_2, filter_wavelet)\n",
        "\n",
        "    # printIntermediateResults(img_LL_4, img_LH_4, img_HL_4, img_HH_4, filter_wavelet, noise, \"[M/4, N/4] Before Threshold\")\n",
        "\n",
        "    # Applying threshold to LH, HL and HH subbands\n",
        "    img_LH_4 = performThresholding(img_LH_4, threshold_subband, False)\n",
        "    img_HL_4 = performThresholding(img_HL_4, threshold_subband, False)\n",
        "    img_HH_4 = performThresholding(img_HH_4, threshold_subband, False)\n",
        "\n",
        "    # printIntermediateResults(img_LL_4, img_LH_4, img_HL_4, img_HH_4, filter_wavelet, noise, \"[M/4, N/4] After Threshold\")\n",
        "\n",
        "    # Level 3 : Perform filters LL, LH, HL and HH on LL Image of size [M/4, N/4] and generate [M/8, N/8] size Image\n",
        "    img_LL_8 = performLL(img_LL_4, filter_wavelet)\n",
        "    img_LH_8 = performLH(img_LL_4, filter_wavelet)\n",
        "    img_HL_8 = performHL(img_LL_4, filter_wavelet)\n",
        "    img_HH_8 = performHH(img_LL_4, filter_wavelet)\n",
        "\n",
        "    # printIntermediateResults(img_LL_8, img_LH_8, img_HL_8, img_HH_8, filter_wavelet, noise,\"[M/8, N/8] Before Threshold\")\n",
        "\n",
        "    # Applying threshold to LH, HL and HH subbands\n",
        "    img_LH_8 = performThresholding(img_LH_8, threshold_subband, False)\n",
        "    img_HL_8 = performThresholding(img_HL_8, threshold_subband, False)\n",
        "    img_HH_8 = performThresholding(img_HH_8, threshold_subband, False)\n",
        "\n",
        "    # printIntermediateResults(img_LL_8, img_LH_8, img_HL_8, img_HH_8, filter_wavelet, noise, \"[M/8, N/8] After Threshold\")\n",
        "\n",
        "    # Level 4 : Perform filters LL, LH, HL and HH on LL Image of size [M/8, N/8] and generate [M/16, N/16] size Image\n",
        "    img_LL_16 = performLL(img_LL_8, filter_wavelet)\n",
        "    img_LH_16 = performLH(img_LL_8, filter_wavelet)\n",
        "    img_HL_16 = performHL(img_LL_8, filter_wavelet)\n",
        "    img_HH_16 = performHH(img_LL_8, filter_wavelet)\n",
        "\n",
        "    # printIntermediateResults(img_LL_16, img_LH_16, img_HL_16, img_HH_16, filter_wavelet, noise, \"[M/16, N/16] Before Threshold\")\n",
        "\n",
        "    # Applying threshold to LH, HL and HH subbands\n",
        "    img_LH_16 = performThresholding(img_LH_16, threshold_subband, False)\n",
        "    img_HL_16 = performThresholding(img_HL_16, threshold_subband, False)\n",
        "    img_HH_16 = performThresholding(img_HH_16, threshold_subband, False)\n",
        "\n",
        "    # printIntermediateResults(img_LL_16, img_LH_16, img_HL_16, img_HH_16, filter_wavelet, noise, \"[M/16, N/16] After Threshold\")\n",
        "\n",
        "    # --------------------------------- Step 2 : Up Sampling and Image Matrix Multiplication ---------------------------\n",
        "    # Blowing Up Level 4 to Level 3 : Up Sampling LH, HL and HH Images of size [M/16, N/16] to size [M/8, N/8]\n",
        "    img_LH_16_blown = upSample(img_LH_16, scale_order)\n",
        "    img_HL_16_blown = upSample(img_HL_16, scale_order)\n",
        "    img_HH_16_blown = upSample(img_HH_16, scale_order)\n",
        "\n",
        "    # printIntermediateResults(img_LL_16, img_LH_16_blown, img_HL_16_blown, img_HH_16_blown, filter_wavelet, noise, \"[M/16, N/16] Blown to [M/8, N/8]\")\n",
        "\n",
        "    # Element wise Multiplication Level 4 blown up Images of size [M/8, N/8] with original Level 3 Images of size [M/8, N/8]\n",
        "    img_LH_8_new = img_LH_16_blown * img_LH_8\n",
        "    img_HL_8_new = img_HL_16_blown * img_HL_8\n",
        "    img_HH_8_new = img_HH_16_blown * img_HH_8\n",
        "\n",
        "    # printIntermediateResults(img_LL_8, img_LH_8_new, img_HL_8_new, img_HH_8_new, filter_wavelet, noise, \"[M/8, N/8] After Multiplying\")\n",
        "\n",
        "    # Blowing Up Level 3 to Level 2 : Up Sampling LH, HL and HH Images of size [M/8, N/8] to size [M/4, N/4]\n",
        "    img_LH_8_blown = upSample(img_LH_8_new, scale_order)\n",
        "    img_HL_8_blown = upSample(img_HL_8_new, scale_order)\n",
        "    img_HH_8_blown = upSample(img_HH_8_new, scale_order)\n",
        "\n",
        "    # printIntermediateResults(img_LL_8, img_LH_8_blown, img_HL_8_blown, img_HH_8_blown, filter_wavelet, noise, \"[M/8, N/8] Blown to [M/4, N/4]\")\n",
        "\n",
        "    # Element wise Multiplication Level 3 blown up Images of size [M/4, N/4] with original Level 2 Images of size [M/4, N/4]\n",
        "    img_LH_4_new = img_LH_8_blown * img_LH_4\n",
        "    img_HL_4_new = img_HL_8_blown * img_HL_4\n",
        "    img_HH_4_new = img_HH_8_blown * img_HH_4\n",
        "\n",
        "    # printIntermediateResults(img_LL_4, img_LH_4_new, img_HL_4_new, img_HH_4_new, filter_wavelet, noise, \"[M/4, N/4] After Multiplying\")\n",
        "\n",
        "    # Blowing Up Level 2 to Level 1 : Up Sampling LH, HL and HH Images of size [M/4, N/4] to size [M/2, N/2]\n",
        "    img_LH_4_blown = upSample(img_LH_4_new, scale_order)\n",
        "    img_HL_4_blown = upSample(img_HL_4_new, scale_order)\n",
        "    img_HH_4_blown = upSample(img_HH_4_new, scale_order)\n",
        "\n",
        "    # printIntermediateResults(img_LL_4, img_LH_4_blown, img_HL_4_blown, img_HH_4_blown, filter_wavelet, noise, \"[M/4, N/4] Blown to [M/2, N/2]\")\n",
        "\n",
        "    # Element wise Multiplication Level 2 blown up Images of size [M/2, N/2] with original Level 1 Images of size [M/2, N/2]\n",
        "    img_LH_2_new = img_LH_4_blown * img_LH_2\n",
        "    img_HL_2_new = img_HL_4_blown * img_HL_2\n",
        "    img_HH_2_new = img_HH_4_blown * img_HH_2\n",
        "\n",
        "    # printIntermediateResults(img_LL_2, img_LH_2_new, img_HL_2_new, img_HH_2_new, filter_wavelet, noise, \"[M/2, N/2] After Multiplying\")\n",
        "\n",
        "    print (img_LH_2_new.shape)\n",
        "\n",
        "    # --------------------------------------- Step 3 : Generating Final Edge map ---------------------------------------\n",
        "    img_LH_final = np.multiply(img_LH_2_new, img_LH_2_new)\n",
        "    img_HL_final = np.multiply(img_HL_2_new, img_HL_2_new)\n",
        "    img_HH_final = np.multiply(img_HH_2_new, img_HH_2_new)\n",
        "    img_final_edges = np.sqrt(img_LH_final + img_HL_final + img_HH_final)\n",
        "\n",
        "    return True, img_final_edges\n"
      ],
      "metadata": {
        "id": "o83dOMZ1-7Zj"
      },
      "execution_count": 19,
      "outputs": []
    }
  ]
}